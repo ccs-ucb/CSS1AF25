{
 "cells": [
  {
   "cell_type": "markdown",
   "metadata": {
    "colab_type": "toc",
    "id": "je6NGL7wiIri"
   },
   "source": [
    "<div style=\"background-color: #002676; padding: 20px;\">\n",
    "<img src=\"https://live-masters-in-computational-social-science.pantheon.berkeley.edu/wp-content/uploads/2025/04/image-3-2.png\" alt=\"MaCSS\" width=\"200\">\n",
    "</div>\n",
    "\n",
    "# **Notebook 1:** Introductions\n",
    "\n",
    "[wdtmacss@berkeley.edu](mailto:wdtmacss@berkeley.edu)\\\n",
    "**Computational Social Science 1A**\\\n",
    "[Human Psychology and Social Technologies](https://classes.berkeley.edu/content/2025-fall-compss-214a-001-lec-001) \n",
    "Fall 2025\\\n",
    "UC Berkeley [Masters in Computational Social Science](https://macss.berkeley.edu/about/)\n",
    "\n",
    "**Week 1:** Welcome! Introductions, class logistics, course schedule and assignments overview.\n",
    "\n",
    "🥳🥳🥳\n",
    "\n",
    "---\n",
    "**Table of Contents**\n",
    "\n",
    "- [Class Summary](#class-summary)\n",
    "- [Introductions](#introductions)\n",
    "  - [Instructor](#instructor)\n",
    "  - [Teaching Assistant](#teaching-assistant)\n",
    "  - [Class Introductions](#class-introductions)\n",
    "- [Course Overview](#course-overview)\n",
    "  - [Logistics](#logistics)\n",
    "    - [Time & Place](#time--place)\n",
    "    - [Syllabus & Bcourses](#syllabus--bcourses)\n",
    "    - [Communications](#communications)\n",
    "    - [Office Hours & Sections](#office-hours--sections)\n",
    "  - [Programming logistics](#programming-logistics)\n",
    "  - [Schedule & Course Content](#schedule--course-content)\n",
    "- [Assignments and Grading](#assignments-and-grading)\n",
    "  - [Assignment 1](#assignment-1)\n",
    "  - [Assignments 2 and 3](#assignments-2-and-3)\n",
    "  - [Assignment 4](#assignment-4)\n",
    "- [Today's Exercise](#todays-exercise)\n",
    "- [Required Reading](#required-reading)\n",
    "---"
   ]
  },
  {
   "cell_type": "markdown",
   "metadata": {
    "id": "_a-AARYW-hC_"
   },
   "source": [
    "<div style=\"padding: 20px;\">\n",
    "<img src=\"https://upload.wikimedia.org/wikipedia/commons/0/09/YouTube_full-color_icon_%282017%29.svg\" alt=\"\" width=\"75\">&nbsp; <img src=\"https://upload.wikimedia.org/wikipedia/en/a/a9/TikTok_logo.svg\" alt=\"\" width=\"200\">&nbsp; <img src=\"https://upload.wikimedia.org/wikipedia/commons/e/ef/ChatGPT-Logo.svg\" alt=\"\" width=\"50\">&nbsp;  <img src=\"https://upload.wikimedia.org/wikipedia/commons/e/ec/DeepSeek_logo.svg\" alt=\"\" width=\"250\">  \n",
    "</div>\n",
    "\n",
    "# Class Summary\n",
    "We will study the complicated impacts of social technologies, with a focus on methods that can help us make sense of the effects that their underlying algorithms might have on information consumption by the people who interact with them. \n",
    "\n",
    "Part one of the class will focus on methods for gaining insight into the dynamics of content selection algorithms on platforms such as [Tiktok](https://arxiv.org/pdf/2503.20231v1) and [Youtube](https://www.pnas.org/doi/10.1073/pnas.2213020120). Part two will focus on methods for gaining insight into the [capabilities and limitations of Conversational AI systems](https://www.pnas.org/doi/10.1073/pnas.2416228122) such as [ChatGPT](https://chatgpt.com/) and [DeepSeek](https://huggingface.co/deepseek-ai). \n",
    "\n",
    "Social media ecosystems have been one of the central topics in Computational Social Science over the last decade. Conversational AI systems are likely to be central over the coming decade. This class is designed to help students see these two topics in a common light and recognize analagous problems (and key distinctions).   \n"
   ]
  },
  {
   "cell_type": "markdown",
   "metadata": {
    "id": "N2oIPAuXzgUN"
   },
   "source": [
    "# Introductions\n",
    "Welcome to [Computational Social Science 1A](https://classes.berkeley.edu/content/2025-fall-compss-214a-001-lec-001)."
   ]
  },
  {
   "cell_type": "markdown",
   "metadata": {
    "id": "GyVkqW6cxjHW"
   },
   "source": [
    "## Instructor\n",
    "\n",
    "*   **Name:** William (Bill) Thompson\n",
    "*   **Pronouns:** He/Him/They\n",
    "*   **Email:** wdtmacss@berkeley.edu\n",
    "*   **About me**\n",
    "    * I am an [Assistant Professor in the Department of Psychology and the Program in Cognitive Science](https://billdthompson.github.io/) here at UC Berkeley.\n",
    "    * I am director of the Computational Cognitive Science Lab, a research group studying reasoning and social interaction in humans and AI systems.\n",
    "    * One of the goals of my research is to develop improved methods for analyzing human behavior at scale, by drawing on the theories and computational tools developed in cognitive science.\n"
   ]
  },
  {
   "cell_type": "markdown",
   "metadata": {
    "id": "GmrEB5RT0aA3"
   },
   "source": [
    "## Graduate Student Instructor\n",
    "\n",
    "* **Name:** Dan Hickey\n",
    "* **Email:** dan_hickey@berkeley.edu \n",
    "* **Office hours:** By appointment. "
   ]
  },
  {
   "cell_type": "markdown",
   "metadata": {
    "id": "8b6vcfGF0Z-x"
   },
   "source": [
    "## Introductions"
   ]
  },
  {
   "cell_type": "markdown",
   "metadata": {},
   "source": [
    "First, find your group. We will sample group assignments by performing a human implementation of the algorithm below!"
   ]
  },
  {
   "cell_type": "code",
   "execution_count": 3,
   "metadata": {},
   "outputs": [],
   "source": [
    "import random\n",
    "\n",
    "def sample_groups(N, K):\n",
    "    integers = random.sample(range(1000), N)\n",
    "    ordered_line = sorted(integers)\n",
    "    groups = [ordered_line[i::K] for i in range(K)]\n",
    "    return groups\n",
    "\n",
    "N = 28 # How many students\n",
    "K = 4 # How many people per group\n",
    "# sample_groups(N,K)"
   ]
  },
  {
   "cell_type": "markdown",
   "metadata": {},
   "source": [
    "**In your group:** Each group has three questions. \n",
    "\n",
    "* This exercise is supposed to be fun and help students get to know each other and the instructors get to know you 🥳\n",
    "* At the end of the discussion, each group will choose someone to present your answers to the class "
   ]
  },
  {
   "cell_type": "markdown",
   "metadata": {},
   "source": [
    "### Group Questions\n",
    "---\n",
    "#### Question Set A (Groups 1 and 2)\n",
    "\n",
    "1. Each person in the group individually note down an answer to the following question. Once everybody has an answer, discuss them in your group. I will ask your group to pick one answer to share with the class. Try to think creatively! The question is: \n",
    "\n",
    "> **What is one way in your life has been changed by social media?** For example, you discovereed a job, found a new hobby, met a partner, became an viral sensation, etc etc. \n",
    "\n",
    "<br>\n",
    "\n",
    "2. Each person in the group individually note down an answer to the following question. Once everybody has an answer, discuss them in your group. I will ask your group to pick one answer to share with the class. Try to think creatively! The question is: \n",
    "\n",
    "> **What is something you use a Conversational AI system for (e.g. ChatGPT) that other people in the room are unlikely to do?** For example, you asked ChatGPT to decide what color to paint your toenails, you planned a roadtrip with AI, you make AI-designed smoothies, etc etc. Feel free to make up interesting uses if you don't have a good example 🙂 \n",
    "\n",
    "<br>\n",
    "\n",
    "3. As a group, read the following passage. The person who wrote the passage is asking for advice. Decide as a group what your advice would be! What should the person seeking advice do? Explain why!\n",
    "\n",
    "> Hey everyone so I’ve been really thinking today about my life decisions and if I’m really doing the right thing. \n",
    "I (27M) have been saving every bit of my money to buy a house (hopefully by early next year).  \n",
    "I’m putting 60% down to keep my payment low and to give good monthly cash flow. \n",
    "However, this is coming at a cost as I still live with my parents, continuously work, and have never done any real experiences or have even traveled out of country.  \n",
    "Do you think what I’m doing is worth it.  I’m trying to figure out if my fear of missing out is irrational or legitimate."
   ]
  },
  {
   "cell_type": "markdown",
   "metadata": {
    "jp-MarkdownHeadingCollapsed": true
   },
   "source": [
    "---\n",
    "#### Question Set B (Groups 3 and 4)\n",
    "1. Each person in the group individually note down an answer to the following question. Once everybody has an answer, discuss them in your group. I will ask your group to pick one answer to share with the class. Try to think creatively! The question is: \n",
    "\n",
    "> **What is one way in your life has been changed by social media?** For example, you discovereed a job, found a new hobby, met a partner, became an viral sensation, etc etc. \n",
    "\n",
    "<br>\n",
    "\n",
    "2. Each person in the group individually note down an answer to the following question. Once everybody has an answer, discuss them in your group. I will ask your group to pick one answer to share with the class. Try to think creatively! The question is: \n",
    "\n",
    "> **What is something you use a Conversational AI system for (e.g. ChatGPT) that other people in the room are unlikely to do?** For example, you asked ChatGPT to decide what color to paint your toenails, you planned a roadtrip with AI, you make AI-designed smoothies, etc etc. Feel free to make up interesting uses if you don't have a good example 🙂 \n",
    "\n",
    "<br>\n",
    "\n",
    "3. As a group, read the following passage. The person who wrote the passage is asking for advice. Decide as a group what your advice would be! What should the person seeking advice do? Explain why!\n",
    "\n",
    ">I got a large insurance settlement a few years ago. I invested most of it and it’s grown very well.  I’m vacationing to a different continent with friends this summer. I’d like to use the insurance money to foot the bill to upgrade us to first class. It’s about $8k total. Mostly because I don’t want to fly economy for 9 hours and they can’t really afford the upgrade. \n",
    "Is there a way for me to do the upgrade without making them feel awkward and weird?\n",
    "Do I just upgrade myself?\n",
    "Do I just accept it and fly economy?"
   ]
  },
  {
   "cell_type": "markdown",
   "metadata": {},
   "source": [
    "---\n",
    "#### Question Set C (Groups 5, 6 and 7)\n",
    "1. Each person in the group individually note down an answer to the following question. Once everybody has an answer, discuss them in your group. I will ask your group to pick one answer to share with the class. Try to think creatively! The question is: \n",
    "\n",
    "> **What is one way in your life has been changed by social media?** For example, you discovereed a job, found a new hobby, met a partner, became an viral sensation, etc etc. \n",
    "\n",
    "<br>\n",
    "\n",
    "2. Each person in the group individually note down an answer to the following question. Once everybody has an answer, discuss them in your group. I will ask your group to pick one answer to share with the class. Try to think creatively! The question is: \n",
    "\n",
    "> **What is something you use a Conversational AI system for (e.g. ChatGPT) that other people in the room are unlikely to do?** For example, you asked ChatGPT to decide what color to paint your toenails, you planned a roadtrip with AI, you make AI-designed smoothies, etc etc. Feel free to make up interesting uses if you don't have a good example 🙂 \n",
    "\n",
    "<br>\n",
    "\n",
    "3. As a group, read the following passage. The person who wrote the passage is asking for advice. Decide as a group what your advice would be! What should the person seeking advice do? Explain why!\n",
    "\n",
    "> My lifelong dream has been to do a road trip across North America (Canada, USA and Mexico). Since I started my work-life I've consistently set aside money for this endeavor. Now, I've saved enough to make it a reality. I've budgeted enough to travel for 6 months and even cushioned a lot to be unemployed for a bit.\n",
    "> So, I currently don't love my job. I've been doing it for almost 3 years and I'm in great standing - had a handful of raises too. It is at an incredible company (a very well known search engine) with many career paths. I would ask for an extended sabbatical but if that doesn't work out, I'm not sure if I should do because of the fear of possibly not being able to get to where I am in my career again.\n",
    "> Reddit - I need your advice.\n",
    "> TL;DR - Quit my job to travel North America?\n",
    "\n",
    "\n",
    "---"
   ]
  },
  {
   "cell_type": "markdown",
   "metadata": {
    "id": "lQtVC2se0Z8L"
   },
   "source": [
    "# Course Overview\n",
    "## Logistics\n",
    "Some logistical details below. You can always email me (wdtmacss@berkeley.edu) or Teja (tejasvi.kalakota@berkeley.edu) with questions =)\n",
    "\n",
    "### Time & Place\n",
    "\n",
    "*   Fridays 1pm - 4pm\n",
    "*   2121 Allston Way (MaCSS Space)\n",
    "*   Friday August 29thth -- Friday October 10th (7 weeks)\n",
    "\n",
    "### Syllabus & Bcourses\n",
    "\n",
    "*   The Bcourses site for this course is here: https://bcourses.berkeley.edu/courses/1548934\n",
    "* Everyone should be enrolled on the Bcourses site already -- let me know if you are not\n",
    "* The latest draft of **[the Syllabus for this course](https://docs.google.com/document/d/1KRStq66TagRFeSk2WfKtGK64A0gUNKr9fDH5hxDKa80) will always be linked on the home page of the Bcourses site**.\n",
    "    * Note: the syllabus will likely evolve over time\n",
    "* The latest draft of the syllabus is your go-to source for information about the course.\n",
    "\n",
    "### Communications\n",
    "\n",
    "*  I will send **announcements through BCourses** (let's do a test right now).\n",
    "*  You are welcome to email me any time with questions, but I always warn students that I get a lot more emails than I can possible answer every day, so at some points in the semester I am only able to respond to urgent matters 🥲 thanks in advance for your patience and understanding 🙏   \n",
    "*  Suggested information-seeking hierarchy: first check the syllabus, then ask your fellow students, then email Dan, then email me.\n",
    "\n",
    "### Office Hours\n",
    "Graduate Student Instructor Dan Hickey ([dan_hickey@berkeley.edu](dan_hickey@berkeley.edu)) will hold office by appointment."
   ]
  },
  {
   "cell_type": "markdown",
   "metadata": {
    "id": "gzjfb4FK74Kv"
   },
   "source": [
    "## Programming logistics\n",
    "\n",
    "*   This course is lab-based and exclusively taught in **Python**\n",
    "*   We will use Jupyter notebooks like this one, hosted in the Github repository for this course and accessed through UC Berkeley Datahub.\n",
    "\n",
    "**Goal:** Open this notebook through your Datahub enviornment.\n",
    "\n",
    "Make sure you have an account on UC Berkeley Datahub. Then use this link to import the Github repository assosciated with the course:\n",
    "[Import into Datahub](https://datahub.berkeley.edu/hub/user-redirect/git-pull?repo=https%3A%2F%2Fgithub.com%2Fccs-ucb%2FCSS1A&branch=main&urlpath=lab%2Ftree%2FCSS1A%2F)\n",
    "\n"
   ]
  },
  {
   "cell_type": "markdown",
   "metadata": {
    "id": "Whv97nWa0Zur"
   },
   "source": [
    "## Schedule & Course Content\n",
    "Let's look through the [course syllabus](https://docs.google.com/document/d/1KRStq66TagRFeSk2WfKtGK64A0gUNKr9fDH5hxDKa80) together."
   ]
  },
  {
   "cell_type": "markdown",
   "metadata": {
    "id": "sgGVdcy7_do2"
   },
   "source": [
    "# Assignments and Grading\n",
    "\n",
    "## Assignment 1\n",
    "* Short context exercise (more below)\n",
    "* 10% of grade (Complete/Incomplete)\n",
    "\n",
    "## Assignment 2\n",
    "We will write a mini report summarizing your work in Part One (Social Media), answering a few questions, and reflecting on the most exciting and most challenging parts of the excercise. An assignment guide will be provided and will include a full grading rubric and instructions.\n",
    "* 20% of grade\n",
    "\n",
    "## Assignment 3\n",
    "We will write a mini report summarizing your work in Part Tw (Conversational AI Platforms), answering a few questions, and reflecting on the most exciting and most challenging parts of the excercise. An assignment guide will be provided and will include a full grading rubric and instructions. \n",
    "* 20% of grade\n",
    "\n",
    "## Engagement and Growth\n",
    "* Attendance in person at all classes is required \n",
    "* Please notify the Graduate Student Instructor if you will be absent.\n",
    "* Extra credit (5%) can be gained through acts of kindness and support, assisting your peers, contributing to discussions, asking questions, and generally contributing to the learning and feeling of being welcome for everyone in the room. If you are on the receieving-end of such an act, please feel free to mention to the graduate student instructor!\n",
    "* I may ask people to write a brief summary of their development trajectory, so that our grading can take into account where people started.\n",
    "\n",
    "## Grading Rubric\n",
    "The function below is the scheme I will likely use to assign final letter grades from percentages. Generally speaking, if you meet all the requirements for the assignments you will get an A. An A+ grade is intended to recognize work that goes above and beyond the requirements. I will provide detailed assignment grading rubrics that will help you understand what is expected for different grades.\n"
   ]
  },
  {
   "cell_type": "code",
   "execution_count": null,
   "metadata": {},
   "outputs": [],
   "source": [
    "def letter_grade(n):\n",
    "\t\"\"\"Standard Berkeley scheme\n",
    "\taugmented with A+ for 98 and above\"\"\"\n",
    "\tif n >= 98:\n",
    "\t\treturn \"A+\"\n",
    "\tif n >= 93:\n",
    "\t\treturn \"A\"\n",
    "\tif n >= 90:\n",
    "\t\treturn \"A-\"\n",
    "\tif n >= 87:\n",
    "\t\treturn \"B+\"\n",
    "\tif n >= 84:\n",
    "\t\treturn \"B\"\n",
    "\tif n >= 80:\n",
    "\t\treturn \"B-\"\n",
    "\tif n >= 77:\n",
    "\t\treturn \"C+\"\n",
    "\tif n >= 74:\n",
    "\t\treturn \"C\"\n",
    "\tif n >= 70:\n",
    "\t\treturn \"C-\"\n",
    "\tif n >= 67:\n",
    "\t\treturn \"D+\"\n",
    "\tif n >= 64:\n",
    "\t\treturn \"D\"\n",
    "\tif n >= 61:\n",
    "\t\treturn \"D-\"\n",
    "\telse:\n",
    "\t\treturn \"F\""
   ]
  },
  {
   "cell_type": "markdown",
   "metadata": {
    "id": "qIMGUH4gA2wf"
   },
   "source": [
    "# Today's Exercise\n",
    "## Assignment 1\n",
    "\n",
    "This assignment includes a very short programming question and a few short questions about your background. The goals of this assignment are:\n",
    "* to familiarize you with the process of submitting a notebook using gradescope\n",
    "* to provide me with a little context about your background and skillset so far.\n",
    "\n",
    "**Instructions:**\n",
    "*   Complete function in cell [4] below\n",
    "    * the function should accept a string as an argument and return the same string reversed.\n",
    "*   Run cell [5] that calls the function and prints out the result\n",
    "*   Edit the markdown cell in Question 2 to include answers to the short questions about your background. \n",
    "*   Download a copy of this notebook\n",
    "*   Upload your notebook for Assignment 1 in Bcourses.\n",
    "*   Due date = \n",
    "\n",
    "\n",
    "**Grading**\n",
    "Your assignment will be graded as complete if you submit a notebook in which it is clear you have made an attempt to follow the instructions above. "
   ]
  },
  {
   "cell_type": "markdown",
   "metadata": {},
   "source": [
    "## Question 1"
   ]
  },
  {
   "cell_type": "code",
   "execution_count": 4,
   "metadata": {
    "executionInfo": {
     "elapsed": 180,
     "status": "ok",
     "timestamp": 1724883038219,
     "user": {
      "displayName": "William D Thompson",
      "userId": "16532926386286142479"
     },
     "user_tz": 420
    },
    "id": "t-qCo7LSxhZR"
   },
   "outputs": [],
   "source": [
    "def reverse_my_name(name):\n",
    "  \"\"\"\n",
    "  Args:\n",
    "  - name: a string representing your name.\n",
    "\n",
    "  Returns: a string representing your name spelled backwards!\n",
    "  \"\"\"\n",
    "  answer = \"not implemented\"\n",
    "  return answer"
   ]
  },
  {
   "cell_type": "code",
   "execution_count": 8,
   "metadata": {
    "colab": {
     "base_uri": "https://localhost:8080/"
    },
    "executionInfo": {
     "elapsed": 3,
     "status": "ok",
     "timestamp": 1724883038388,
     "user": {
      "displayName": "William D Thompson",
      "userId": "16532926386286142479"
     },
     "user_tz": 420
    },
    "id": "jJbBGc-oCIXg",
    "outputId": "bc0562e4-8509-411a-ec19-7fa2ad6bee5e"
   },
   "outputs": [
    {
     "name": "stdout",
     "output_type": "stream",
     "text": [
      "not implemented\n"
     ]
    }
   ],
   "source": [
    "my_name = \"\"\n",
    "my_name_reversed = reverse_my_name(my_name)\n",
    "print(my_name_reversed)"
   ]
  },
  {
   "cell_type": "markdown",
   "metadata": {},
   "source": [
    "## Question 2\n",
    "Please answer the questions below. Your answers can be brief (just one or a few sentences is fine), but feel free to include any detail you feel might be helpful."
   ]
  },
  {
   "cell_type": "markdown",
   "metadata": {},
   "source": [
    "1. On a scale of 1 (very little experience) to 10 (lots of experience), how much experience do you already have using Python? Do you have experience with other programming languages? In general do you feel comfortable using Python for data analysis and vizualization? Could you write a Python function easily, or would that be new to you at this point? Tell us anything that will help us understand your experiences programming and how best to support you. \n",
    "\n",
    "> Write your answer here\n",
    "\n",
    "2. Have you ever used Python to make calls to an API before? If so, in what context?\n",
    "\n",
    "> Write your answer here\n",
    "\n",
    "3. What were you doing before you began this Masters program? A little background about your job or studies or other activites will help me calibrate this course to people's needs.\n",
    "\n",
    "> Write your answer here\n",
    "\n",
    "4. Intuitively, how do you feel about topics like math and statistics? Do you love them, tolerate them, hate them? No wrong answers here 🙂\n",
    "\n",
    "> Write your answer here\n",
    "\n",
    "5. What are you most excited about learning in this Masters? What are you most nervous or unsure about?\n",
    "\n",
    "> Write your answer here\n",
    "\n",
    "6. Do you use Conversational AI systems such as ChatGPT or Gemini? If so, how frequently and what kinds of things do you use them for? \n",
    "\n",
    "> Write your answer here"
   ]
  },
  {
   "cell_type": "markdown",
   "metadata": {
    "id": "WbNQJB3KDjWV"
   },
   "source": [
    "# Required Reading\n",
    "**Before** the next class you must read this paper **very carefully and comprehensively**:\n",
    "\n",
    "[Dynamics of Algorithmic Content Amplification on TikTok](https://arxiv.org/pdf/2503.20231v1)\n",
    "\n",
    "You can access a pdf of the article [here](https://arxiv.org/pdf/2503.20231v1) or via the syllabus.\n",
    "\n",
    "*   Your goal is to read this research article in full very thoroughly, **including the Methods sections**.\n",
    "*   You do not need to understand the Markov analyses. Our focus will be on the Sock Puppet method in general and the study, not the data analysis part. \n",
    "*   Next Friday we will **discuss this article as a class**\n",
    "*   **You will be asked to answer questions about the article**, and **the approach described within the article will be part of our focus for the next two weeks** and the basis for Assignment 2.  "
   ]
  }
 ],
 "metadata": {
  "colab": {
   "authorship_tag": "ABX9TyPHKb9d0Xb3zS6cF56CXgtk",
   "provenance": [
    {
     "file_id": "15OtQyqR85bdT2vKDVYmhmJ15-NGhR7VN",
     "timestamp": 1724878025912
    }
   ]
  },
  "kernelspec": {
   "display_name": "Python 3",
   "language": "python",
   "name": "python3"
  },
  "language_info": {
   "codemirror_mode": {
    "name": "ipython",
    "version": 3
   },
   "file_extension": ".py",
   "mimetype": "text/x-python",
   "name": "python",
   "nbconvert_exporter": "python",
   "pygments_lexer": "ipython3",
   "version": "3.9.6"
  }
 },
 "nbformat": 4,
 "nbformat_minor": 4
}
