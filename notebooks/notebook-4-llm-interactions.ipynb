{
 "cells": [
  {
   "cell_type": "markdown",
   "metadata": {
    "colab_type": "toc",
    "id": "je6NGL7wiIri"
   },
   "source": [
    "<div style=\"background-color: #002676; padding: 20px;\">\n",
    "<img src=\"https://live-masters-in-computational-social-science.pantheon.berkeley.edu/wp-content/uploads/2025/04/image-3-2.png\" alt=\"MaCSS\" width=\"200\">\n",
    "</div>\n",
    "\n",
    "# **Notebook 4:** Interacting with Conversational AI Systems\n",
    "\n",
    "[wdtmacss@berkeley.edu](mailto:wdtmacss@berkeley.edu)\\\n",
    "**Computational Social Science 1A**\\\n",
    "[Human Psychology and Social Technologies](https://classes.berkeley.edu/content/2025-fall-compss-214a-001-lec-001) \n",
    "Fall 2025\\\n",
    "UC Berkeley [Masters in Computational Social Science](https://macss.berkeley.edu/about/)\n",
    "\n",
    "**Week 4:** Welcome! AI systems as information propogation algorithms; AI pursuasion and advising; methods for audit and evaluation.\n",
    "\n",
    "🤖🤖🤖🫣\n",
    "\n",
    "---\n",
    "\n",
    "**Table of Contents**\n",
    "\n",
    "- [Course Overview](#course-overview)\n",
    "- [Class Summary](#class-summary)\n",
    "- [Introduction to Conversational AI systems](#introduction-to-conversational-ai)\n",
    "- [Class Discussion](@class-discussion)\n",
    "- [Today's Lab Session](#lab-session)\n",
    "---"
   ]
  },
  {
   "cell_type": "markdown",
   "metadata": {
    "id": "_a-AARYW-hC_"
   },
   "source": [
    "<div style=\"padding: 20px;\">\n",
    "<img src=\"https://upload.wikimedia.org/wikipedia/commons/e/ef/ChatGPT-Logo.svg\" alt=\"\" width=\"150\">\n",
    "</div>\n",
    "\n",
    "# Class Summary\n",
    "* Today we will begin talking about conversational AI systems and the challenges that arise in undertsanding the properties of their behavior. \n",
    "* We will discuss analogies and disanalogies between the problems that arise in this setting and the problems we discussed in our sessions on social media platforms. \n",
    "* We will do a deep dive into a recent interactive study of GPT4's capabilities in personalized pursuasion.\n",
    "* We will discuss the paper in detail, and retreive and explore the accompanying dataset. \n",
    "* Today's lab session will include an introduction to the [Datasets](https://huggingface.co/docs/datasets/en/index) library for Huggingface datasets, and opportunities to develop increased familarity with the affordances of the Pandas and Seaborn libraries for data manipulation and visualization. \n",
    "\n",
    "---"
   ]
  },
  {
   "cell_type": "markdown",
   "metadata": {},
   "source": [
    "# Introduction to Conversational AI Systems\n",
    "<div style=\"padding: 20px;\">\n",
    "<!-- <img src=\"https://upload.wikimedia.org/wikipedia/commons/7/79/ELIZA_conversation.png\" alt=\"\" width=\"200\"> -->\n",
    "<img src=\"https://upload.wikimedia.org/wikipedia/commons/b/b6/The_AI_Arms_Race_Is_Changing_Everything.webp\" alt=\"\" width=\"200\">\n",
    "</div>\n",
    "\n",
    "## Prevelance of LLMs\n",
    "ChatGPT needs no introduction. It is used by more than 500 million people and almost all university students use some sort of AI system to support their work now. A [recent OpenAI and NBER analysis](https://openai.com/index/how-people-are-using-chatgpt/) of 150 million ChatGPT conversations shows that people are increasingly using ChatGPT for personal as well as work-related issues. \n",
    "\n",
    "## Information consumption from AI systems\n",
    "Conversational AI models are becoming a source of information and understanding comparable to search engines and social media platforms. Where is the information coming from? What information is being prioritized? What are the algorithms that determine the information a person is offered and how it is presented? \n",
    "\n",
    "### Familiar Questions\n",
    "Questions such as these are analogous to the questions we have alrready discussed around social media platforms, yet their answers are likely to be even more complicated. Even the designers of conversational AI systems don't fully understand the structure and properties of the underlying algorithms that pre-trained AI systems have acquired. Currently, empirical experimentation is the primary way to gain insights into these systems and their potential impacts on information consumption and propogation.\n",
    "\n",
    "### Interactions with who/what?\n",
    "While it may not feel like you are interacting with other people when using a conversational AI system, there is a sense in which this is what you are doing. AI systems are trained on human traces of knowledge, including social media data and other products of human interaction and human intelligence. Yet they are also more than a search algorithm -- the properties of their underlying models can lead to novel information, or at least novel presentations of existing information. \n",
    "\n",
    "### Methods for Evaluation\n",
    "Understanding the capabilities and limitations of modern AI systems is a pressing challenge for many companies, with broad implications for society and deep connections to social science, especially cognitive science and psychology. While engineeers who build AI systems understand the architecture of their models and the learning algorithms used to train them (and understand some of the data), even full knowledge of these features does not lead to an understanding of the behavioral capabilities of the resulting trained systems.\n",
    "\n",
    "As a consequence, companies and outside parties alike rely on methods for evaluation of model behavior. Typical methods for evaluation assess performance on static benchmark datasets, such as benchmark problems in math, reasoning, coding, and many other domains. More recently, evaluation methods have begun to include interactive settings, where models are assessed through features of their interactions with human users. \n",
    "\n",
    "---"
   ]
  },
  {
   "cell_type": "markdown",
   "metadata": {},
   "source": [
    "# Class Discussion\n",
    "Let's walk through the following study in detail:\n",
    "\n",
    "* Salvi, F., Horta Ribeiro, M., Gallotti, R., & West, R. (2025). [On the conversational persuasiveness of GPT-4](https://www.nature.com/articles/s41562-025-02194-6). Nature Human Behaviour, 1-9.\n",
    "\n",
    "<div style=\"padding: 20px;\">\n",
    "<img src=\"https://media.springernature.com/full/springer-static/image/art%3A10.1038%2Fs41562-025-02194-6/MediaObjects/41562_2025_2194_Fig1_HTML.png\" alt=\"\" width=\"400\">\n",
    "</div>\n",
    "\n",
    "## Basic Questions\n",
    "* What demographic information was collected and provided to oppoonents?\n",
    "* What were the *issues* discussed by participants?\n",
    "* What is the structure of the debate format? What were the four stages?\n",
    "* Did all participants write rebuttals? \n",
    "* How many participants were recruited?\n",
    "* How many debates were held? How many per topic?\n",
    "* What was the prompt provided to the LLM to encourage personalisation? Is it sufficient? Could you improve it?\n",
    "* What is argument *strength*?\n",
    "* What is the main outcome variable $\\tilde{A}$? What is the motivation for this outcome measure?\n",
    "\n",
    "## More in-depth questions\n",
    "* What is the key finding?\n",
    "* What were some secondary findings?\n",
    "* What were the backfire reactions?\n",
    "* Does Personalized AI debates pursauade more effectively on all topics?\n",
    "* Is the debate format a good format? Does this limit the study in specific ways?\n",
    "* Participants were randomly assigned to pro or con positions. Does this bias or limit the study in any particular ways?\n",
    "* Is demographic information sufficient for personalization? Could a person exploit this meaningfully?\n",
    "* Why were odds ratios used?\n",
    "* AI debaters tended to use more logical and analogical reasoning, whereas people used similarity, support, trust, and storytelling. Anything to discuss here?\n",
    "* Humans identified AI opponents as AI, but failed to identify human opponents. Why? Does this tell us something interesting?\n",
    "* \"given that they were not equally pursuasive\" <-- I don't understand this caveat. Do you?\n",
    "\n",
    "## General discussion and reflection\n",
    "* Does this research change how you view AI systems?\n",
    "* Do you worry about pursuasation by AI systems? \n",
    "* Does this research methodology capture what it claims to capture? Can you think of better ways to examine the question of AI capabilities?\n",
    "* Is comparison to human pursuasion a reasonable benchmark?\n",
    "* Could the designers of GPT4 know the outcome of this study before it was conducted?\n",
    "* How do you think AI systems will influence real world conversations about important topics?\n",
    "* Do you think misinformation is likely to be a big concern around AI systems in the same way as it was on social media platforms?\n",
    "\n",
    "## Reflection\n",
    "* Do you think this kind of research is valuable? \n",
    "* Other questions?\n",
    "\n",
    "---"
   ]
  },
  {
   "cell_type": "markdown",
   "metadata": {},
   "source": [
    "# Lab Session\n",
    "In todays' lab session, we will explore the dataset that accompanies the study. The dataset is available [here on Huggingface](https://huggingface.co/datasets/frasalvi/debategpt). \n",
    "\n",
    "* First, I will provide code to retreive the dataset directly from Huggingface. \n",
    "* Then, we will examine the variables in the data and plot some distributions using Pandas and [Seaborn](https://seaborn.pydata.org/). I will provide an example, and specify some goals for you to go beyond the example.\n",
    "\n",
    "\n",
    "\n",
    "**Learing goals:** Gain familiarity with the [Datasets](https://huggingface.co/docs/datasets/en/index) library, the [Seaborn](https://seaborn.pydata.org/) vizualization library, and practice plotting distributions, correlations, and exploring the structure of a complex dataset using Pandas."
   ]
  },
  {
   "cell_type": "markdown",
   "metadata": {},
   "source": [
    "## Retreiving the Data\n",
    "Datasets on Huggingface can be retrieved using the Python library. First, we need to install this library, along with Seaborn and Matplotlib. "
   ]
  },
  {
   "cell_type": "code",
   "execution_count": null,
   "metadata": {},
   "outputs": [],
   "source": [
    "!pip3 install datasets seaborn matplotlib"
   ]
  },
  {
   "cell_type": "markdown",
   "metadata": {},
   "source": [
    "The Datasets library can be used with a Huggingface repository ID to load a dataset. In our case, the repository ID is `frasalvi/debategpt`."
   ]
  },
  {
   "cell_type": "code",
   "execution_count": null,
   "metadata": {},
   "outputs": [],
   "source": [
    "import datasets\n",
    "\n",
    "# retreive the dataset\n",
    "dataset = datasets.load_dataset(\"frasalvi/debategpt\", split='train')"
   ]
  },
  {
   "cell_type": "markdown",
   "metadata": {},
   "source": [
    "We can easily convert the dataset object to a Pandas `Dataframe` object."
   ]
  },
  {
   "cell_type": "code",
   "execution_count": 14,
   "metadata": {},
   "outputs": [
    {
     "name": "stdout",
     "output_type": "stream",
     "text": [
      "debateID                                                                    1.0\n",
      "treatmentType                                            Human-AI, personalized\n",
      "topic                          Should the US Expand (“pack”) the Supreme Court?\n",
      "gender                                                                   female\n",
      "age                                                                       35-44\n",
      "ethnicity                                                                 black\n",
      "education                                                              bachelor\n",
      "employmentStatus                                                 employed-wages\n",
      "politicalAffiliation                                                   democrat\n",
      "side                                                                        Con\n",
      "agreementPreTreatment                                                         3\n",
      "agreementPostTreatment                                                        3\n",
      "sideAgreementPreTreatment                                                     3\n",
      "sideAgreementPostTreatment                                                    3\n",
      "topicPrior                                                                    2\n",
      "argument                      Hello. I think expanding is a bad idea for the...\n",
      "rebuttal                      Diversity is good no debate there but you can ...\n",
      "conclusion                    There comes a point when politics need to stay...\n",
      "argumentOpponent              Expanding the Supreme Court is a vital step to...\n",
      "rebuttalOpponent              While it's true that expansion might initially...\n",
      "conclusionOpponent            Rather than diluting power, court expansion en...\n",
      "perceivedOpponent                                                         human\n",
      "Name: 0, dtype: object\n"
     ]
    }
   ],
   "source": [
    "# convert to pandas\n",
    "df = dataset.to_pandas()\n",
    "\n",
    "# print the first few rows\n",
    "print(df.iloc[0])"
   ]
  },
  {
   "cell_type": "markdown",
   "metadata": {},
   "source": [
    "## Excerise 1"
   ]
  },
  {
   "cell_type": "markdown",
   "metadata": {},
   "source": [
    "### Example: Education Level\n",
    "What are the different education levels contained within the datset, and what is the distribution of different levels?"
   ]
  },
  {
   "cell_type": "code",
   "execution_count": null,
   "metadata": {},
   "outputs": [],
   "source": [
    "import seaborn as sns\n",
    "import matplotlib.pyplot as plt"
   ]
  },
  {
   "cell_type": "code",
   "execution_count": null,
   "metadata": {},
   "outputs": [
    {
     "name": "stderr",
     "output_type": "stream",
     "text": [
      "/var/folders/_9/1vc0fnpx5znglf91303xxtgc0000gn/T/ipykernel_4001/2137433609.py:8: UserWarning: set_ticklabels() should only be used with a fixed number of ticks, i.e. after set_ticks() or using a FixedLocator.\n",
      "  education_histogram.set_xticklabels(education_histogram.get_xticklabels(), rotation=90)\n"
     ]
    },
    {
     "data": {
      "image/png": "[encoded data removed]",
      "text/plain": [
       "<Figure size 800x200 with 1 Axes>"
      ]
     },
     "metadata": {},
     "output_type": "display_data"
    }
   ],
   "source": [
    "# create a figure object\n",
    "fig, ax = plt.subplots(figsize=(8, 2))\n",
    "\n",
    "# create a histogram of the education variable\n",
    "education_histogram = sns.histplot(df['education'])\n",
    "\n",
    "# rotate x axis tick labels \n",
    "education_histogram.set_xticklabels(education_histogram.get_xticklabels(), rotation=90)\n",
    "\n",
    "plt.show()"
   ]
  },
  {
   "cell_type": "markdown",
   "metadata": {},
   "source": [
    "### Goal 1: Political Affiliation?\n",
    "What are the different political affiliations contained within the datset, and what is the distribution of different levels?"
   ]
  },
  {
   "cell_type": "code",
   "execution_count": 25,
   "metadata": {},
   "outputs": [],
   "source": [
    "# Your code goes here"
   ]
  },
  {
   "cell_type": "markdown",
   "metadata": {},
   "source": [
    "### Goal 2: Which Topics? \n",
    "What are the different topics in the dataset? Print out a sample of at least 10. Can you print out all the unique topics? Can you print topics along with their \"strength\"?"
   ]
  },
  {
   "cell_type": "code",
   "execution_count": null,
   "metadata": {},
   "outputs": [],
   "source": [
    "# Your code goes here"
   ]
  },
  {
   "cell_type": "markdown",
   "metadata": {},
   "source": [
    "### Goal 3: Interaction Sequence\n",
    "For a single specific debate, print out the text of the sequence of stages in order (e.g. argument, rebuttal, etc). If you can, print out the text from both parties in the debate!"
   ]
  },
  {
   "cell_type": "code",
   "execution_count": 26,
   "metadata": {},
   "outputs": [],
   "source": [
    "# Your code goes here"
   ]
  },
  {
   "cell_type": "markdown",
   "metadata": {},
   "source": [
    "### Goal 4: Agreement Before and After\n",
    "Using Seaborn, create a plot that visualizes the relationship between agreement before the debate and agreement after the debate. You could consider a scatter plot, with Before on one axis and After on the other. \n",
    "\n",
    "Stretch goal: create seperate plots for each debate topic, or for different treatments. Consider using Seaborn's [FacetGrid](https://seaborn.pydata.org/generated/seaborn.FacetGrid.html) functionality."
   ]
  },
  {
   "cell_type": "code",
   "execution_count": null,
   "metadata": {},
   "outputs": [],
   "source": [
    "# Your code goes here"
   ]
  },
  {
   "cell_type": "markdown",
   "metadata": {},
   "source": [
    "### Goal 5: Perceived Opponents\n",
    "Was their a relationship between suspecting your opponents is an AI and political affiliation or education level? "
   ]
  },
  {
   "cell_type": "code",
   "execution_count": null,
   "metadata": {},
   "outputs": [],
   "source": [
    "# Your code goes here"
   ]
  },
  {
   "cell_type": "markdown",
   "metadata": {},
   "source": [
    "### Goal 6: Compelling Examples\n",
    "Find a really compelling example of an argument or a rebuttal written by a human participant. Do the same for an AI system. Print out the texts. "
   ]
  },
  {
   "cell_type": "code",
   "execution_count": null,
   "metadata": {},
   "outputs": [],
   "source": [
    "# your code goes here"
   ]
  },
  {
   "cell_type": "markdown",
   "metadata": {},
   "source": [
    "## Advanced Excersise: Regression Replication\n",
    "Using [Statsmodels](https://www.statsmodels.org/stable/regression.html) perform a regression analysis on the data. Can you replicate one of the regression analysis from the paper?"
   ]
  },
  {
   "cell_type": "code",
   "execution_count": null,
   "metadata": {},
   "outputs": [],
   "source": [
    "# Your code goes here"
   ]
  }
 ],
 "metadata": {
  "colab": {
   "authorship_tag": "ABX9TyPHKb9d0Xb3zS6cF56CXgtk",
   "provenance": [
    {
     "file_id": "15OtQyqR85bdT2vKDVYmhmJ15-NGhR7VN",
     "timestamp": 1724878025912
    }
   ]
  },
  "kernelspec": {
   "display_name": "Python 3",
   "language": "python",
   "name": "python3"
  },
  "language_info": {
   "codemirror_mode": {
    "name": "ipython",
    "version": 3
   },
   "file_extension": ".py",
   "mimetype": "text/x-python",
   "name": "python",
   "nbconvert_exporter": "python",
   "pygments_lexer": "ipython3",
   "version": "3.9.6"
  }
 },
 "nbformat": 4,
 "nbformat_minor": 4
}
