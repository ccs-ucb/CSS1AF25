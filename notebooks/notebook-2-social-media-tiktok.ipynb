{
 "cells": [
  {
   "cell_type": "markdown",
   "metadata": {
    "colab_type": "toc",
    "id": "je6NGL7wiIri"
   },
   "source": [
    "<div style=\"background-color: #002676; padding: 20px;\">\n",
    "<img src=\"https://live-masters-in-computational-social-science.pantheon.berkeley.edu/wp-content/uploads/2025/04/image-3-2.png\" alt=\"MaCSS\" width=\"200\">\n",
    "</div>\n",
    "\n",
    "# **Notebook 2:** Social Media Platforms as Research Subjects\n",
    "\n",
    "[wdtmacss@berkeley.edu](mailto:wdtmacss@berkeley.edu)\\\n",
    "**Computational Social Science 1A**\\\n",
    "[Human Psychology and Social Technologies](https://classes.berkeley.edu/content/2025-fall-compss-214a-001-lec-001) \n",
    "Fall 2025\\\n",
    "UC Berkeley [Masters in Computational Social Science](https://macss.berkeley.edu/about/)\n",
    "\n",
    "**Week 1:** Welcome! Big questions around social media; a TikTok auditing study; and data availability.\n",
    "\n",
    "📱🫣\n",
    "\n",
    "---\n",
    "**Table of Contents**\n",
    "\n",
    "- [Class Summary](#class-summary)\n",
    "- [Introduction and Background](#introduction-and-background)\n",
    "- [Class Discussion](#class-discussion)\n",
    "- [A Sock Puppet Audit of TikTok](#tiktok-study)\n",
    "- [Today's Lab Session](#lab-session)\n",
    "---"
   ]
  },
  {
   "cell_type": "markdown",
   "metadata": {
    "id": "_a-AARYW-hC_"
   },
   "source": [
    "<div style=\"padding: 20px;\">\n",
    "<img src=\"https://upload.wikimedia.org/wikipedia/en/a/a9/TikTok_logo.svg\" alt=\"\" width=\"200\">\n",
    "</div>\n",
    "\n",
    "# Class Summary\n",
    "Today we will talk about some of the big questions surrounding modern social media platforms and their potential impacts on society. We will discuss a [recent study](https://arxiv.org/pdf/2503.20231v1) of content amplification dynamics on [TikTok](https://www.tiktok.com/en/), and dig into the modern landscape of social media data availability for research purposes.\n",
    "\n",
    "The study we will discuss (and the requeired reading for this class) is: \n",
    "\n",
    "Baumann, F., Arora, N., Rahwan, I., & Czaplicka, A. (2025). [Dynamics of Algorithmic Content Amplification on TikTok](https://arxiv.org/pdf/2503.20231v1). arXiv preprint arXiv:2503.20231."
   ]
  },
  {
   "cell_type": "markdown",
   "metadata": {},
   "source": [
    "# Introduction and Background\n",
    "Almost everyone uses some sort of online social media. For many of us, social media has become one of the primary ways in which we engage with the news, seek opportunities, and consume information. Social media platforms have a difficult role to play -- there is far too much information out there for any one individual to navigate individually, so platforms must filter information for us. To do so at scale, they must design algorithms that intelligently support and direct our attention. But the design of attentional-management systems has the potential to dramatically impact what people know and beleive!       \n",
    "\n",
    "## Big Questions \n",
    "* Do social media algorithms actually influence the things that people beleive? Can they influence democratic processes?\n",
    "* Should content selection algorithms be regulated?\n",
    "* Should they be transparent?\n",
    "* Who should decide what counts as misinformation and disinformation, and what should platforms do in response?\n",
    "* how do the design characteristics of a system impact information consumption among users?\n",
    "* How can we address this with data analysis?\n",
    "* ...\n",
    "\n",
    "## Research Methods\n",
    "Understanding the impacts of algorithmic mediation of human interactions is an inherently difficult problem. In many circumstances, even if you know the algorithm completely, it's consequences cannot be straight-forwardly predicted. \n",
    "\n",
    "A range of methods have been developed to try to make inferences about the algorithms underpinning social media platforms, their impacts on the information that is available to people, and even their impacts on downstream behavioral outcomes and decisions. Here are just a few examples below, selected somewhat hap-hzardly from a large research field.\n",
    "\n",
    "### Experiments on users of social media platforms\n",
    "* Matias, J. N. (2019). Preventing harassment and increasing group participation through social norms in 2,190 online science discussions. Proceedings of the National Academy of Sciences, 116(20), 9785-9789.\n",
    "\n",
    "#### Ethical Considerations\n",
    "* https://retractionwatch.com/2025/04/28/experiment-using-ai-generated-posts-on-reddit-draws-fire-for-ethics-concerns/\n",
    "\n",
    "### Outside Audits of content selection algorithms\n",
    "* Haroon, M., Wojcieszak, M., Chhabra, A., Liu, X., Mohapatra, P., & Shafiq, Z. (2023). Auditing YouTube’s recommendation system for ideologically congenial, extreme, and problematic recommendations. Proceedings of the national academy of sciences, 120(50), e2213020120.\n",
    "* Chan, J., Choi, F., Saha, K., & Chandrasekharan, E. (2025). Examining Algorithmic Curation on Social Media: An Empirical Audit of Reddit's r/popular Feed. arXiv preprint arXiv:2502.20491.\n",
    "\n",
    "### Analysis of publicly available data \n",
    "* Bond, R. M., & Garrett, R. K. (2023). Engagement with fact-checked posts on Reddit. PNAS nexus, 2(3), pgad018.\n",
    "* Zheng, E. T., Jiang, X., Fang, Z., Thelwall, M., Zheng, E. T., Jiang, X., ... & Thelwall, M. How is science discussed on Bluesky?.\n",
    "\n",
    "### Analysis of Platform Data \n",
    "* Mosleh, M., Yang, Q., Zaman, T., Pennycook, G., & Rand, D. G. (2024). Differences in misinformation sharing can lead to politically asymmetric sanctions. Nature, 634(8034), 609-616.\n",
    "* McCabe, S. D., Ferrari, D., Green, J., Lazer, D. M., & Esterling, K. M. (2024). Post-January 6th deplatforming reduced the reach of misinformation on Twitter. Nature, 630(8015), 132-140.\n",
    "\n",
    "### Analysis of data donations\n",
    "* https://nationalinternetobservatory.org/\n",
    "* https://doi-org.libproxy.berkeley.edu/10.1126/sciadv.add8080 \n",
    "\n",
    "### Surveys of Users\n",
    "* Kirkpatrick, C. E., & Lawrie, L. L. (2024). TikTok as a source of health information and misinformation for young women in the United States: survey study. JMIR infodemiology, 4(1), e54663.\n",
    "\n",
    "## Relevant background\n",
    "* Orben, A., & Matias, J. N. (2025). Fixing the science of digital technology harms. Science, 388(6743), 152-155.\n",
    "* Matias, J. N. (2023). [https://www.nature.com/articles/d41586-023-01521-z ](Humans and algorithms work together—so study them together). Nature, 617(7960), 248-251. \n",
    "\n"
   ]
  },
  {
   "cell_type": "markdown",
   "metadata": {},
   "source": [
    "# Class Discussion\n",
    "* Do you use social media platforms? If so, which ones? \n",
    "* What kinds of information do you consume on social media platforms? \n",
    "* Have social media platforms impacted your views or choices? \n",
    "* Do you think that social media platforms influence other groups of people more or less than they influence you? \n",
    "* How about children? Have you encountered misinformation via social media platforms? \n",
    "* How would you like platforms to respond? \n",
    "* Do you think content selection algorithms should be regulated? \n",
    "* Should they be transparent and public? \n",
    "\n",
    "We will discuss these and other questions as a group in class."
   ]
  },
  {
   "cell_type": "markdown",
   "metadata": {},
   "source": [
    "# Tiktok Study\n",
    "Let's walk through this recent study of TikTok's content selection algorithm:\n",
    "\n",
    "* Baumann, F., Arora, N., Rahwan, I., & Czaplicka, A. (2025). [Dynamics of Algorithmic Content Amplification on TikTok](https://arxiv.org/pdf/2503.20231v1). arXiv preprint arXiv:2503.20231.\n",
    "\n",
    "## Basic Questions\n",
    "* What is a \"sock-puppet\" audit design?\n",
    "* How many bots were used?\n",
    "* What \"interests\" did the bots have?\n",
    "* Why were these interest categories selected?\n",
    "* How many videos did the bots watch?\n",
    "* Did all the bots watch the same numnber of videos?\n",
    "* How did bots assess video relevance?\n",
    "* How did bots mimic user interactions with content?\n",
    "* How long were bots active on the platform?\n",
    "\n",
    "## More in-depth questions\n",
    "* There were three measures of interest-aligned content viewing,S, r, and C. What do they mean and how are they diffeerent?\n",
    "* What were the two baseline measures? Why are they appropriate (or not)?\n",
    "* How was the onset of content amplification quantified?\n",
    "* How quickly did content amplification normally happen?\n",
    "* Why might there be differences in content amplification for the two different interests?\n",
    "* Why were interest-aligned videos less popular and longer?\n",
    "* How was content diversity measured?\n",
    "* Is this a good measure?\n",
    "* What is Selenium?\n",
    "\n",
    "## General discussion and reflection\n",
    "* Why is a sock-puppet design useful here?\n",
    "* What are some key limitations of a sock-puppet audit?\n",
    "* What can wwe conclue from Gaming and Food?\n",
    "* Are amplification dynamics likely to be worse for some topics than for others?\n",
    "* Are these bots are good simulation of human interactions? What might people do differently?\n",
    "* What role did the Language Model play here?\n",
    "* Is this study ethical? \n",
    "\n",
    "## Reflection\n",
    "* Do you think this kind of research is valuable? Are outside Audits highly limited uses of public resources? Or critically important objective evaluations?"
   ]
  },
  {
   "cell_type": "markdown",
   "metadata": {},
   "source": [
    "# Lab Session -- Data Availability in 2025\n",
    "Many social media platforms have changed their policies recently about the public availability of data. Why have they done so? How might this affect research? In this lab session, your goal is to learn about recent changes to Reddit's terms of service, as they apply to research. Historically, Reddit has been one of the most openly-accessible sources of data available to researchers in computational social science. Why has this changed? What are the new policies? \n",
    "\n",
    "Answer the questions below using any resources you wish!"
   ]
  },
  {
   "cell_type": "markdown",
   "metadata": {},
   "source": [
    "**Q1** Why have Reddit's data availability rules changed recently? \n",
    "\n",
    "> Write your answer here"
   ]
  },
  {
   "cell_type": "markdown",
   "metadata": {},
   "source": [
    "**Q2** What is an API? Does Reddit have an API that researchers can use to download data? Does Reddit have a python API? If so, provide a **minimal working example** of a python function that makes a call to the API. What is Pushshift?\n",
    "> Write your answer here"
   ]
  },
  {
   "cell_type": "markdown",
   "metadata": {},
   "source": [
    "**Q3** In brief, are you allowed to download data from subreddits for research purposes? What are the key restrictions? \n",
    "> Write your answer here"
   ]
  },
  {
   "cell_type": "markdown",
   "metadata": {},
   "source": [
    "**Q4** Take a look at the study below. What data from reddit is being used? Could you perform this study under the new terms of service?\n",
    "\n",
    "Bhatia, S., van Baal, S. T., Wang, F., & Walasek, L. (2025). [Computational analysis of 100 K choice dilemmas: Decision attributes, trade-off structures, and model-based prediction](https://www.pnas.org/doi/10.1073/pnas.2406489122). Proceedings of the National Academy of Sciences, 122(17), e2406489122. \n",
    "\n",
    "\n",
    "> Write your answer here"
   ]
  },
  {
   "cell_type": "markdown",
   "metadata": {},
   "source": [
    "**Q5** For this class, I was hoping to make your class projects a combination of Reddit data and LLM analyses. In particular, I was planning to ask everybody to choose a subreddit they enjoy, to download some posts from that subreddit using the API, then pass these posts to a Large Language Model AI system such as ChatGPT, so that we can study how the language model responds to real world questions. \n",
    "\n",
    "Under the current Reddit terms, would such a project be allowable? if not, why not?\n",
    "\n",
    "> Write your answer here"
   ]
  },
  {
   "cell_type": "markdown",
   "metadata": {},
   "source": []
  },
  {
   "cell_type": "markdown",
   "metadata": {},
   "source": [
    "**Bonus Question** Is the TikTok study we read in alignment with TikTok's terms of service?"
   ]
  },
  {
   "cell_type": "markdown",
   "metadata": {},
   "source": []
  }
 ],
 "metadata": {
  "colab": {
   "authorship_tag": "ABX9TyPHKb9d0Xb3zS6cF56CXgtk",
   "provenance": [
    {
     "file_id": "15OtQyqR85bdT2vKDVYmhmJ15-NGhR7VN",
     "timestamp": 1724878025912
    }
   ]
  },
  "kernelspec": {
   "display_name": "Python 3",
   "language": "python",
   "name": "python3"
  },
  "language_info": {
   "codemirror_mode": {
    "name": "ipython",
    "version": 3
   },
   "file_extension": ".py",
   "mimetype": "text/x-python",
   "name": "python",
   "nbconvert_exporter": "python",
   "pygments_lexer": "ipython3",
   "version": "3.9.6"
  }
 },
 "nbformat": 4,
 "nbformat_minor": 4
}
